{
 "cells": [
  {
   "cell_type": "code",
   "execution_count": 25,
   "metadata": {},
   "outputs": [],
   "source": [
    "from typing import Iterable\n",
    "from typing import Iterator\n",
    "\n",
    "class Student:\n",
    "    def __init__(self, first_name: str, last_name: str) -> None:\n",
    "        self.__first_name = first_name\n",
    "        self.__last_name = last_name\n",
    "\n",
    "    @property\n",
    "    def first_name(self) -> str:\n",
    "        return self.__first_name\n",
    "\n",
    "    @property\n",
    "    def last_name(self) -> str:\n",
    "        return self.__last_name\n",
    "\n",
    "    @property\n",
    "    def name(self) -> str:\n",
    "        return self.first_name + ' ' + self.last_name\n",
    "\n",
    "    @first_name.setter\n",
    "    def first_name(self, first_name: str) -> None:\n",
    "        self.__first_name = first_name\n",
    "    \n",
    "    @last_name.setter\n",
    "    def last_name(self, last_name: str) -> None:\n",
    "        self.__last_name = last_name\n",
    "\n",
    "    def __str__(self):\n",
    "        return f'Student: {self.name}'\n",
    "\n",
    "\n",
    "class Lecturer:\n",
    "    def __init__(self, first_name: str, last_name: str, subject: str) -> None:\n",
    "        self.__first_name = first_name\n",
    "        self.__last_name = last_name\n",
    "        self.__subject = subject\n",
    "\n",
    "    @property\n",
    "    def subject(self):\n",
    "        return self.__subject\n",
    "\n",
    "    @property\n",
    "    def first_name(self):\n",
    "        return self.__first_name\n",
    "\n",
    "    @property\n",
    "    def last_name(self):\n",
    "        return self.__last_name\n",
    "\n",
    "    @property\n",
    "    def name(self) -> str:\n",
    "        return self.first_name + ' ' + self.last_name\n",
    "\n",
    "    def __str__(self):\n",
    "        return f'{self.subject} Lecturer: {self.name}'\n",
    "\n",
    "\n",
    "class UniversityClass:\n",
    "    def __init__(self, lecturers: Iterable=[], students: Iterable=[]) -> None:\n",
    "        self.__lecturers = lecturers\n",
    "        self.__students = students\n",
    "\n",
    "    @property\n",
    "    def lecturers(self) -> Iterable:\n",
    "        return self.__lecturers\n",
    "    \n",
    "    @property\n",
    "    def students(self) -> Iterable:\n",
    "        return self.__students\n",
    "\n",
    "    def add_student(student: Student) -> None:\n",
    "        raise NotImplementedError\n",
    "\n",
    "    def remove_students(student: Student) -> None:\n",
    "        raise NotImplementedError\n",
    "\n",
    "    def add_lecturer(lecturer: Lecturer) -> None:\n",
    "        raise NotImplementedError\n",
    "\n",
    "    def remove_lecturer(lecturer: Lecturer) -> None:\n",
    "        raise NotImplementedError"
   ]
  },
  {
   "cell_type": "code",
   "execution_count": 3,
   "metadata": {},
   "outputs": [],
   "source": [
    "uni_class = UniversityClass(\n",
    "    lecturers=[\n",
    "        Lecturer('Maria', 'Richardson', 'Algorithms'),\n",
    "        Lecturer('Bob', 'Johanson', 'Programming')\n",
    "    ],\n",
    "    students=[\n",
    "        Student('Andrew', 'Brown'),\n",
    "        Student('Helen', 'White'),\n",
    "        Student('George', 'Johnson')\n",
    "    ]\n",
    ")"
   ]
  },
  {
   "cell_type": "code",
   "execution_count": 4,
   "metadata": {},
   "outputs": [
    {
     "ename": "TypeError",
     "evalue": "'UniversityClass' object is not iterable",
     "output_type": "error",
     "traceback": [
      "\u001b[0;31m---------------------------------------------------------------------------\u001b[0m",
      "\u001b[0;31mTypeError\u001b[0m                                 Traceback (most recent call last)",
      "Cell \u001b[0;32mIn[4], line 1\u001b[0m\n\u001b[0;32m----> 1\u001b[0m \u001b[39mfor\u001b[39;00m member \u001b[39min\u001b[39;00m uni_class:\n\u001b[1;32m      2\u001b[0m     \u001b[39mprint\u001b[39m(member)\n",
      "\u001b[0;31mTypeError\u001b[0m: 'UniversityClass' object is not iterable"
     ]
    }
   ],
   "source": [
    "for member in uni_class:\n",
    "    print(member)"
   ]
  },
  {
   "cell_type": "code",
   "execution_count": 21,
   "metadata": {},
   "outputs": [],
   "source": [
    "class UniversityClassIter:\n",
    "    def __init__(self, university_class: UniversityClass) -> None:\n",
    "        self.__lects = university_class.lecturers\n",
    "        self.__stdnts = uni_class.students\n",
    "\n",
    "        self.class_size = len(self.__lects) + len(self.__stdnts)\n",
    "        self.current_index = 0\n",
    "\n",
    "    def __iter__(self) -> Iterator:\n",
    "        return self\n",
    "\n",
    "    def __next__(self):\n",
    "        if self.current_index < self.class_size:\n",
    "            if self.current_index < len(self.__lects):\n",
    "                member = self.__lects[self.current_index]\n",
    "            else:\n",
    "                member = self.__stdnts[self.current_index - len(self.__lects)]\n",
    "            \n",
    "            self.current_index += 1\n",
    "            return member\n",
    "\n",
    "        raise StopIteration\n",
    "\n"
   ]
  },
  {
   "cell_type": "code",
   "execution_count": 26,
   "metadata": {},
   "outputs": [],
   "source": [
    "class UniversityClass:\n",
    "    def __init__(self, lecturers: Iterable=[], students: Iterable=[]) -> None:\n",
    "        self.__lecturers = lecturers\n",
    "        self.__students = students\n",
    "\n",
    "    @property\n",
    "    def lecturers(self) -> Iterable:\n",
    "        return self.__lecturers\n",
    "    \n",
    "    @property\n",
    "    def students(self) -> Iterable:\n",
    "        return self.__students\n",
    "\n",
    "    def add_student(student: Student) -> None:\n",
    "        raise NotImplementedError\n",
    "\n",
    "    def remove_students(student: Student) -> None:\n",
    "        raise NotImplementedError\n",
    "\n",
    "    def add_lecturer(lecturer: Lecturer) -> None:\n",
    "        raise NotImplementedError\n",
    "\n",
    "    def remove_lecturer(lecturer: Lecturer) -> None:\n",
    "        raise NotImplementedError\n",
    "\n",
    "    def __iter__(self) -> Iterator:\n",
    "        return UniversityClassIter(self)"
   ]
  },
  {
   "cell_type": "code",
   "execution_count": 27,
   "metadata": {},
   "outputs": [],
   "source": [
    "uni_class = UniversityClass(\n",
    "    lecturers=[\n",
    "        Lecturer('Maria', 'Richardson', 'Algorithms'),\n",
    "        Lecturer('Bob', 'Johanson', 'Programming')\n",
    "    ],\n",
    "    students=[\n",
    "        Student('Andrew', 'Brown'),\n",
    "        Student('Helen', 'White'),\n",
    "        Student('George', 'Johnson')\n",
    "    ]\n",
    ")"
   ]
  },
  {
   "cell_type": "code",
   "execution_count": 28,
   "metadata": {},
   "outputs": [
    {
     "name": "stdout",
     "output_type": "stream",
     "text": [
      "Algorithms Lecturer: Maria Richardson\n",
      "Programming Lecturer: Bob Johanson\n",
      "Student: Andrew Brown\n",
      "Student: Helen White\n",
      "Student: George Johnson\n"
     ]
    }
   ],
   "source": [
    "for member in uni_class:\n",
    "    print(member)"
   ]
  }
 ],
 "metadata": {
  "kernelspec": {
   "display_name": "Python 3",
   "language": "python",
   "name": "python3"
  },
  "language_info": {
   "codemirror_mode": {
    "name": "ipython",
    "version": 3
   },
   "file_extension": ".py",
   "mimetype": "text/x-python",
   "name": "python",
   "nbconvert_exporter": "python",
   "pygments_lexer": "ipython3",
   "version": "3.11.4"
  },
  "orig_nbformat": 4
 },
 "nbformat": 4,
 "nbformat_minor": 2
}
